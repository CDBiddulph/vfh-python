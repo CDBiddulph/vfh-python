{
 "cells": [
  {
   "cell_type": "code",
   "execution_count": 1,
   "metadata": {},
   "outputs": [],
   "source": [
    "# from IPython.core.display import display, HTML\n",
    "# display(HTML(\"<style>.container { width:100% !important; }</style>\"))"
   ]
  },
  {
   "cell_type": "code",
   "execution_count": 1,
   "metadata": {},
   "outputs": [],
   "source": [
    "import sys\n",
    "sys.path.insert(0, sys.path[0] + \"\\\\lib\")"
   ]
  },
  {
   "cell_type": "code",
   "execution_count": 14,
   "metadata": {
    "scrolled": false
   },
   "outputs": [
    {
     "name": "stdout",
     "output_type": "stream",
     "text": [
      "['C:\\\\Users\\\\caleb\\\\PythonProjects\\\\AutoBike\\\\vfh-python\\\\lib', 'C:\\\\Users\\\\caleb\\\\PythonProjects\\\\AutoBike\\\\vfh-python', 'C:\\\\Users\\\\caleb\\\\Anaconda3\\\\python37.zip', 'C:\\\\Users\\\\caleb\\\\Anaconda3\\\\DLLs', 'C:\\\\Users\\\\caleb\\\\Anaconda3\\\\lib', 'C:\\\\Users\\\\caleb\\\\Anaconda3', '', 'C:\\\\Users\\\\caleb\\\\Anaconda3\\\\lib\\\\site-packages', 'C:\\\\Users\\\\caleb\\\\Anaconda3\\\\lib\\\\site-packages\\\\win32', 'C:\\\\Users\\\\caleb\\\\Anaconda3\\\\lib\\\\site-packages\\\\win32\\\\lib', 'C:\\\\Users\\\\caleb\\\\Anaconda3\\\\lib\\\\site-packages\\\\Pythonwin', 'C:\\\\Users\\\\caleb\\\\Anaconda3\\\\lib\\\\site-packages\\\\IPython\\\\extensions', 'C:\\\\Users\\\\caleb\\\\.ipython']\n",
      "The autoreload extension is already loaded. To reload it, use:\n",
      "  %reload_ext autoreload\n"
     ]
    },
    {
     "ename": "AttributeError",
     "evalue": "type object 'Robot' has no attribute 'from_png_map'",
     "output_type": "error",
     "traceback": [
      "\u001b[1;31m---------------------------------------------------------------------------\u001b[0m",
      "\u001b[1;31mAttributeError\u001b[0m                            Traceback (most recent call last)",
      "\u001b[1;32m<ipython-input-14-7e60f5fed566>\u001b[0m in \u001b[0;36m<module>\u001b[1;34m\u001b[0m\n\u001b[0;32m     24\u001b[0m \u001b[0minit_speed\u001b[0m \u001b[1;33m=\u001b[0m \u001b[1;36m2\u001b[0m\u001b[1;33m\u001b[0m\u001b[1;33m\u001b[0m\u001b[0m\n\u001b[0;32m     25\u001b[0m \u001b[1;33m\u001b[0m\u001b[0m\n\u001b[1;32m---> 26\u001b[1;33m robot = Robot.from_png_map(map_fname, True, init_location, \n\u001b[0m\u001b[0;32m     27\u001b[0m                        target_location, init_speed, active_region_dimension, resolution, num_bins)\n\u001b[0;32m     28\u001b[0m \u001b[1;33m\u001b[0m\u001b[0m\n",
      "\u001b[1;31mAttributeError\u001b[0m: type object 'Robot' has no attribute 'from_png_map'"
     ]
    }
   ],
   "source": [
    "import matplotlib.pyplot as plt\n",
    "print(sys.path)\n",
    "\n",
    "%load_ext autoreload\n",
    "%autoreload 2\n",
    "%matplotlib inline\n",
    "\n",
    "from lib.robot import Robot\n",
    "\n",
    "# HistogramGrid params\n",
    "active_region_dimension = (16, 16)\n",
    "resolution = 1 # 1cm per node\n",
    "# map_fname = 'map.txt'\n",
    "map_fname = 'map_no_sides.txt'\n",
    "# map_fname = 'map_trap.txt'\n",
    "# map_fname = 'maps/map1.png'\n",
    "\n",
    "# PolarHistogram params\n",
    "num_bins = 36 # each bin is 360/num_bins degrees\n",
    "target_location = (1, 1)\n",
    "\n",
    "# Robot Params\n",
    "init_location = (0, 0)\n",
    "init_speed = 2\n",
    "\n",
    "robot = Robot.from_png_map(map_fname, True, init_location, \n",
    "                       target_location, init_speed, active_region_dimension, resolution, num_bins)\n",
    "\n",
    "robot.loop(draw=True)\n",
    "# print(path_planner)\n",
    "# robot.path_planner.print_histogram()\n",
    "# robot.draw()\n",
    "# print(robot.angle)"
   ]
  },
  {
   "cell_type": "code",
   "execution_count": null,
   "metadata": {},
   "outputs": [],
   "source": []
  }
 ],
 "metadata": {
  "kernelspec": {
   "display_name": "Python 3",
   "language": "python",
   "name": "python3"
  },
  "language_info": {
   "codemirror_mode": {
    "name": "ipython",
    "version": 3
   },
   "file_extension": ".py",
   "mimetype": "text/x-python",
   "name": "python",
   "nbconvert_exporter": "python",
   "pygments_lexer": "ipython3",
   "version": "3.7.4"
  }
 },
 "nbformat": 4,
 "nbformat_minor": 2
}
